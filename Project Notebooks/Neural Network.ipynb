{
 "cells": [
  {
   "cell_type": "code",
   "execution_count": null,
   "metadata": {},
   "outputs": [],
   "source": [
    "\"\"\"\n",
    "1. Packages\n",
    "All the packages we'll need for the various algorithms we can use\n",
    "\"\"\"\n",
    "\n",
    "# Global imports\n",
    "# This tells matplotlib not to try opening a new window for each plot.\n",
    "%matplotlib inline\n",
    "\n",
    "import matplotlib.pyplot as plt\n",
    "import numpy as np\n",
    "import pandas as pd\n",
    "\n",
    "from sklearn.pipeline import Pipeline\n",
    "\n",
    "from sklearn.model_selection import cross_val_score\n",
    "\n",
    "np.random.seed(0)"
   ]
  },
  {
   "cell_type": "code",
   "execution_count": null,
   "metadata": {},
   "outputs": [],
   "source": [
    "\"\"\"\n",
    "1.3 Neural Network\n",
    "Source: Week 7 Notebook and Week 10 notebook <- Week 10 notebook goes through keras\n",
    "\n",
    "- Jason recommends we use Keras, but I have included the Week 7 imports as well\n",
    "\n",
    "\n",
    "from sklearn.metrics import classification_report\n",
    "from sklearn.neighbors import KNeighborsClassifier\n",
    "\n",
    "import theano \n",
    "from theano import tensor as T\n",
    "from theano.sandbox.rng_mrg import MRG_RandomStreams as RandomStreams\n",
    "print(theano.config.device) # We're using CPUs (for now)\n",
    "print(theano.config.floatX) # Should be 64 bit for CPUs\n",
    "\n",
    "\"\"\"\n",
    "\n",
    "import keras\n",
    "keras.__version__"
   ]
  },
  {
   "cell_type": "code",
   "execution_count": null,
   "metadata": {},
   "outputs": [],
   "source": [
    "# Load ALL data\n",
    "train_target = pd.read_csv('../Data/subsetted/train_all.csv', sep=',', engine='python')\n",
    "\n",
    "# Load all training data\n",
    "train_data = pd.read_csv('../Data/subsetted/subsetted_training_data_all.csv', sep=',', engine='python')\n",
    "print('Subsetted data done')"
   ]
  },
  {
   "cell_type": "code",
   "execution_count": null,
   "metadata": {},
   "outputs": [],
   "source": [
    "# Prep the data\n",
    "# NOTE: Each time you run this cell, you'll re-shuffle the data, resulting in a different ordering.\n",
    "\n",
    "# Remove non int or float columns\n",
    "train_data = train_data.select_dtypes(['float64','int64'])\n",
    "\n",
    "# Remove columns from the data matrix that contain Nan values\n",
    "train_data = train_data.dropna(axis=1, how='any')\n",
    "# If we'd rather just remove rows with a Nan, we'd need to change the axis to 0\n",
    "# Note to David: I ran with axis=0 and the shape was (0, 54), so every row has at least one Nan\n",
    "\n",
    "# Set the X and Y variables\n",
    "X, Y = np.asarray(train_data), np.asarray(train_target['logerror'])\n",
    "\n",
    "# Shuffle the variables\n",
    "shuffle = np.random.permutation(np.arange(X.shape[0]))\n",
    "X, Y = X[shuffle], Y[shuffle]\n",
    "\n",
    "print('data shape: ', X)\n",
    "print('target shape:', Y)\n",
    "\n",
    "# Create different arrays for training and testing data.\n",
    "train_data, train_labels = X[:75000], Y[:75000]\n",
    "mini_train_data, mini_train_labels = X[:1000], Y[:1000]\n",
    "test_data, test_labels = X[75000:], Y[75000:]\n",
    "#dev_data, dev_labels = X_2016[75000:76000], Y_2016[75000:76000]"
   ]
  },
  {
   "cell_type": "code",
   "execution_count": null,
   "metadata": {},
   "outputs": [],
   "source": []
  }
 ],
 "metadata": {
  "kernelspec": {
   "display_name": "Python 3",
   "language": "python",
   "name": "python3"
  },
  "language_info": {
   "codemirror_mode": {
    "name": "ipython",
    "version": 3
   },
   "file_extension": ".py",
   "mimetype": "text/x-python",
   "name": "python",
   "nbconvert_exporter": "python",
   "pygments_lexer": "ipython3",
   "version": "3.6.4"
  }
 },
 "nbformat": 4,
 "nbformat_minor": 2
}
