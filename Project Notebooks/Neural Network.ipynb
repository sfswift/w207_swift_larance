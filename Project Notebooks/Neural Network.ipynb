{
 "cells": [
  {
   "cell_type": "code",
   "execution_count": 1,
   "metadata": {},
   "outputs": [
    {
     "name": "stderr",
     "output_type": "stream",
     "text": [
      "Using TensorFlow backend.\n"
     ]
    }
   ],
   "source": [
    "\"\"\"\n",
    "1. Packages\n",
    "All the packages we'll need for the various algorithms we can use\n",
    "\"\"\"\n",
    "\n",
    "# Global imports\n",
    "# This tells matplotlib not to try opening a new window for each plot.\n",
    "%matplotlib inline\n",
    "\n",
    "import matplotlib.pyplot as plt\n",
    "import numpy as np\n",
    "import pandas as pd\n",
    "\n",
    "from sklearn.pipeline import Pipeline\n",
    "\n",
    "from sklearn.model_selection import cross_val_score\n",
    "\n",
    "from keras import models\n",
    "from keras import layers\n",
    "\n",
    "np.random.seed(0)"
   ]
  },
  {
   "cell_type": "code",
   "execution_count": 2,
   "metadata": {},
   "outputs": [
    {
     "data": {
      "text/plain": [
       "'2.1.5'"
      ]
     },
     "execution_count": 2,
     "metadata": {},
     "output_type": "execute_result"
    }
   ],
   "source": [
    "\"\"\"\n",
    "1.3 Neural Network\n",
    "Source: Week 7 Notebook and Week 10 notebook <- Week 10 notebook goes through keras\n",
    "\n",
    "- Jason recommends we use Keras, but I have included the Week 7 imports as well\n",
    "\n",
    "\n",
    "from sklearn.metrics import classification_report\n",
    "from sklearn.neighbors import KNeighborsClassifier\n",
    "\n",
    "import theano \n",
    "from theano import tensor as T\n",
    "from theano.sandbox.rng_mrg import MRG_RandomStreams as RandomStreams\n",
    "print(theano.config.device) # We're using CPUs (for now)\n",
    "print(theano.config.floatX) # Should be 64 bit for CPUs\n",
    "\n",
    "\"\"\"\n",
    "\n",
    "import keras\n",
    "keras.__version__"
   ]
  },
  {
   "cell_type": "code",
   "execution_count": 3,
   "metadata": {},
   "outputs": [
    {
     "name": "stdout",
     "output_type": "stream",
     "text": [
      "Train data done\n",
      "Test data done\n"
     ]
    }
   ],
   "source": [
    "# Load train data\n",
    "train_labels = pd.read_csv('../Data/final/train_labels_processed.csv', sep=',', engine='python')\n",
    "train_data = pd.read_csv('../Data/final/train_data_processed.csv', sep=',', engine='python')\n",
    "print('Train data done')\n",
    "\n",
    "# Load test data\n",
    "test_labels = pd.read_csv('../Data/final/test_labels_processed.csv', sep=',', engine='python')\n",
    "test_data = pd.read_csv('../Data/final/test_data_processed.csv', sep=',', engine='python')\n",
    "print('Test data done')"
   ]
  },
  {
   "cell_type": "code",
   "execution_count": 4,
   "metadata": {},
   "outputs": [],
   "source": [
    "validation_data, validation_labels = train_data[:30000], train_labels[:30000]\n",
    "train_data, train_labels = train_data[30000:], train_labels[30000:]"
   ]
  },
  {
   "cell_type": "code",
   "execution_count": 34,
   "metadata": {},
   "outputs": [],
   "source": [
    "model = models.Sequential()\n",
    "model.add(layers.Dense(16, activation='relu', input_shape=(34,)))\n",
    "model.add(layers.Dense(16, activation='relu'))\n",
    "model.add(layers.Dense(1, activation='sigmoid'))"
   ]
  },
  {
   "cell_type": "markdown",
   "metadata": {},
   "source": [
    "Lastly, we need to pick a loss function and an optimizer. Since we are facing a binary classification problem and the output of our network \n",
    "is a probability (we end our network with a single-unit layer with a sigmoid activation), is it best to use the `binary_crossentropy` loss. \n",
    "It isn't the only viable choice: you could use, for instance, `mean_squared_error`. But crossentropy is usually the best choice when you \n",
    "are dealing with models that output probabilities. Crossentropy is a quantity from the field of Information Theory, that measures the \"distance\" \n",
    "between probability distributions, or in our case, between the ground-truth distribution and our predictions.\n",
    "\n",
    "Here's the step where we configure our model with the `rmsprop` optimizer and the `binary_crossentropy` loss function. Note that we will \n",
    "also monitor accuracy during training."
   ]
  },
  {
   "cell_type": "code",
   "execution_count": 35,
   "metadata": {},
   "outputs": [],
   "source": [
    "model.compile(optimizer='rmsprop', #adam? rmsprop\n",
    "              loss='mean_squared_error',\n",
    "              metrics=['mae','squared_hinge','accuracy'])"
   ]
  },
  {
   "cell_type": "markdown",
   "metadata": {},
   "source": [
    "We are passing our optimizer, loss function and metrics as strings, which is possible because `rmsprop`, `binary_crossentropy` and \n",
    "`accuracy` are packaged as part of Keras. Sometimes you may want to configure the parameters of your optimizer, or pass a custom loss \n",
    "function or metric function. This former can be done by passing an optimizer class instance as the `optimizer` argument:"
   ]
  },
  {
   "cell_type": "code",
   "execution_count": 36,
   "metadata": {},
   "outputs": [],
   "source": [
    "from keras import losses\n",
    "from keras import metrics"
   ]
  },
  {
   "cell_type": "code",
   "execution_count": 37,
   "metadata": {},
   "outputs": [
    {
     "name": "stdout",
     "output_type": "stream",
     "text": [
      "Epoch 1/10\n",
      "100000/100000 [==============================] - 1s 7us/step - loss: 0.1566 - mean_absolute_error: 0.3336 - squared_hinge: 0.9941 - acc: 0.0044\n",
      "Epoch 2/10\n",
      "100000/100000 [==============================] - 0s 4us/step - loss: 0.0289 - mean_absolute_error: 0.0750 - squared_hinge: 0.9994 - acc: 0.0051\n",
      "Epoch 3/10\n",
      "100000/100000 [==============================] - 0s 4us/step - loss: 0.0283 - mean_absolute_error: 0.0697 - squared_hinge: 0.9996 - acc: 0.0051\n",
      "Epoch 4/10\n",
      "100000/100000 [==============================] - 0s 4us/step - loss: 0.0283 - mean_absolute_error: 0.0698 - squared_hinge: 0.9995 - acc: 0.0051\n",
      "Epoch 5/10\n",
      "100000/100000 [==============================] - 0s 4us/step - loss: 0.0282 - mean_absolute_error: 0.0698 - squared_hinge: 0.9995 - acc: 0.0051\n",
      "Epoch 6/10\n",
      "100000/100000 [==============================] - 0s 4us/step - loss: 0.0282 - mean_absolute_error: 0.0697 - squared_hinge: 0.9994 - acc: 0.0051\n",
      "Epoch 7/10\n",
      "100000/100000 [==============================] - 0s 4us/step - loss: 0.0282 - mean_absolute_error: 0.0698 - squared_hinge: 0.9994 - acc: 0.0051\n",
      "Epoch 8/10\n",
      "100000/100000 [==============================] - 0s 4us/step - loss: 0.0282 - mean_absolute_error: 0.0698 - squared_hinge: 0.9994 - acc: 0.0051\n",
      "Epoch 9/10\n",
      "100000/100000 [==============================] - 0s 4us/step - loss: 0.0282 - mean_absolute_error: 0.0698 - squared_hinge: 0.9994 - acc: 0.0051\n",
      "Epoch 10/10\n",
      "100000/100000 [==============================] - 0s 4us/step - loss: 0.0281 - mean_absolute_error: 0.0698 - squared_hinge: 0.9993 - acc: 0.0051\n"
     ]
    }
   ],
   "source": [
    "history = model.fit(train_data,\n",
    "                    train_labels,\n",
    "                    epochs=10,\n",
    "                    batch_size=512)"
   ]
  },
  {
   "cell_type": "code",
   "execution_count": 38,
   "metadata": {},
   "outputs": [
    {
     "name": "stdout",
     "output_type": "stream",
     "text": [
      "100000/100000 [==============================] - 2s 23us/step\n"
     ]
    },
    {
     "data": {
      "text/plain": [
       "[0.02812355019208044, 0.06951179056763648, 0.9993487988853454, 0.00507]"
      ]
     },
     "execution_count": 38,
     "metadata": {},
     "output_type": "execute_result"
    }
   ],
   "source": [
    "results = model.evaluate(train_data, train_labels)\n",
    "results"
   ]
  },
  {
   "cell_type": "code",
   "execution_count": null,
   "metadata": {},
   "outputs": [],
   "source": []
  }
 ],
 "metadata": {
  "kernelspec": {
   "display_name": "Python 3",
   "language": "python",
   "name": "python3"
  },
  "language_info": {
   "codemirror_mode": {
    "name": "ipython",
    "version": 3
   },
   "file_extension": ".py",
   "mimetype": "text/x-python",
   "name": "python",
   "nbconvert_exporter": "python",
   "pygments_lexer": "ipython3",
   "version": "3.6.4"
  }
 },
 "nbformat": 4,
 "nbformat_minor": 2
}
