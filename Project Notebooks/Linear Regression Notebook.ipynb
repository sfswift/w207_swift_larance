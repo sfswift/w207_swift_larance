{
 "cells": [
  {
   "cell_type": "code",
   "execution_count": 1,
   "metadata": {
    "collapsed": true
   },
   "outputs": [],
   "source": [
    "\"\"\"\n",
    "1. Import Global Packages\n",
    "All the packages we'll need for the various algorithms we can use\n",
    "\"\"\"\n",
    "\n",
    "# Global imports\n",
    "# This tells matplotlib not to try opening a new window for each plot.\n",
    "%matplotlib inline\n",
    "\n",
    "import matplotlib.pyplot as plt\n",
    "import numpy as np\n",
    "import pandas as pd\n",
    "\n",
    "from sklearn.pipeline import Pipeline\n",
    "\n",
    "np.random.seed(0)"
   ]
  },
  {
   "cell_type": "code",
   "execution_count": 2,
   "metadata": {
    "collapsed": false
   },
   "outputs": [
    {
     "name": "stderr",
     "output_type": "stream",
     "text": [
      "/Users/davidlarance/anaconda3/envs/ipykernal_py2/lib/python2.7/site-packages/matplotlib/__init__.py:800: MatplotlibDeprecationWarning: axes.color_cycle is deprecated and replaced with axes.prop_cycle; please use the latter.\n",
      "  mplDeprecation)\n"
     ]
    }
   ],
   "source": [
    "\"\"\"\n",
    "2. Linear Regression\n",
    "Source: Week 6 Notebook\n",
    "\"\"\"\n",
    "\n",
    "import seaborn as sns\n",
    "from numpy.linalg import inv\n",
    "from sklearn.linear_model import LinearRegression\n",
    "from sklearn import preprocessing\n",
    "\n",
    "np.set_printoptions(precision=4, suppress=True)\n"
   ]
  },
  {
   "cell_type": "code",
   "execution_count": 23,
   "metadata": {
    "collapsed": false
   },
   "outputs": [],
   "source": [
    "\"\"\"\n",
    "3. Load Subsetted that was created in EDA notebook and target error from raw zillow file\n",
    "Note to Sullivan: I had to reverse the slashes from back to forward to work\n",
    "\"\"\"\n",
    "\n",
    "# Load the pre-subsetted data\n",
    "train_data_2016 = pd.read_csv('../Data/subsetted/subsetted_training_data_2016.csv', sep=',', engine='python')\n",
    "train_data_2017 = pd.read_csv('../Data/subsetted/subsetted_training_data_2017.csv', sep=',', engine='python')\n",
    "\n",
    "# Load the label data\n",
    "train_target_2016 = pd.read_csv('../Data/labels/train_2016.csv', sep=',', engine='python')\n",
    "train_target_2017 = pd.read_csv('../Data/labels/train_2017.csv', sep=',', engine='python')"
   ]
  },
  {
   "cell_type": "code",
   "execution_count": 27,
   "metadata": {
    "collapsed": false
   },
   "outputs": [
    {
     "name": "stdout",
     "output_type": "stream",
     "text": [
      "('Subsetted train data shape:', (90275, 59))\n",
      "('Label data shape:', (90275, 3))\n"
     ]
    }
   ],
   "source": [
    "# 3. Check the data\n",
    "\n",
    "# 3.1 Data shape\n",
    "# Check the shape of the data\n",
    "print(\"Subsetted train data shape:\", train_data_2016.shape)\n",
    "\n",
    "# Check the shape of the targets\n",
    "print(\"Label data shape:\", train_target_2016.shape)\n",
    "\n",
    "# 3.2 Descriptive stats of train and target data\n",
    "#print(train_data_2016.describe())\n",
    "#train_data_2016.head(5)\n",
    "\n",
    "#train_target_2016['logerror'].head(10)"
   ]
  },
  {
   "cell_type": "code",
   "execution_count": 39,
   "metadata": {
    "collapsed": false
   },
   "outputs": [
    {
     "name": "stdout",
     "output_type": "stream",
     "text": [
      "data shape:  (90275, 12)\n",
      "target shape: (90275,)\n"
     ]
    }
   ],
   "source": [
    "# 4. Prep the data\n",
    "\n",
    "# 4.1 Remove non int or float columns\n",
    "train_data_2016 = train_data_2016.select_dtypes(['float64','int64'])\n",
    "\n",
    "# 4.2 Remove columns from the data matrix that contain Nan values\n",
    "train_data_2016 = train_data_2016.dropna(axis=1, how='any')\n",
    "# If we'd rather just remove rows with a Nan, we'd need to change the axis to 0\n",
    "\n",
    "# 4.3 Set the X and Y variables\n",
    "X_2016, Y_2016 = np.asarray(train_data_2016), np.asarray(train_target_2016['logerror'])\n",
    "\n",
    "# 4.4 Shuffle the variables\n",
    "# NOTE: Each time you run this cell, you'll re-shuffle the data, resulting in a different ordering.\n",
    "shuffle = np.random.permutation(np.arange(X_2016.shape[0]))\n",
    "X_2016, Y_2016 = X_2016[shuffle], Y_2016[shuffle]\n",
    "\n",
    "print 'data shape: ', X_2016.shape\n",
    "print 'target shape:', Y_2016.shape\n",
    "\n",
    "# 4.5 Create different arrays for training and testing data.\n",
    "train_data, train_labels = X_2016[:75000], Y_2016[:75000]\n",
    "mini_train_data, mini_train_labels = X_2016[:1000], Y_2016[:1000]\n",
    "test_data, test_labels = X_2016[75000:], Y_2016[75000:]\n",
    "#dev_data, dev_labels = X_2016[75000:76000], Y_2016[75000:76000]\n",
    "\n"
   ]
  },
  {
   "cell_type": "code",
   "execution_count": 43,
   "metadata": {
    "collapsed": false
   },
   "outputs": [
    {
     "name": "stdout",
     "output_type": "stream",
     "text": [
      " Estimated intercept: 1.1071502068636945\n",
      "Estimated coefficients: [-0.      0.      0.0026  0.0063  0.0268  0.     -0.      0.0024 -0.\n",
      "  0.     -0.0025  0.    ]\n"
     ]
    }
   ],
   "source": [
    "# 5. Create, fit the Linear Regression classifier\n",
    "\n",
    "# 5.1 Create and fit\n",
    "linr =  LinearRegression()\n",
    "linr.fit(mini_train_data, mini_train_labels)\n",
    "\n",
    "# 5.2 Print the resulting model\n",
    "print 'Estimated intercept:', linr.intercept_\n",
    "\n",
    "print 'Estimated coefficients:', linr.coef_\n"
   ]
  },
  {
   "cell_type": "code",
   "execution_count": 41,
   "metadata": {
    "collapsed": false
   },
   "outputs": [
    {
     "data": {
      "text/plain": [
       "Text(0.5,1,u'Error vs. Predicted Error')"
      ]
     },
     "execution_count": 41,
     "metadata": {},
     "output_type": "execute_result"
    },
    {
     "data": {
      "image/png": "[encoded data removed]",
      "text/plain": [
       "<matplotlib.figure.Figure at 0x10edbcad0>"
      ]
     },
     "metadata": {},
     "output_type": "display_data"
    }
   ],
   "source": [
    "# 6. Test the accuracy of the classifier\n",
    "\n",
    "plt.scatter(mini_train_labels, linr.predict(mini_train_data))\n",
    "plt.xlabel(\"Real Error: $Y_i$\")\n",
    "plt.ylabel(\"Predicted Error: $\\hat{Y}_i$\")\n",
    "plt.title(\"Error vs. Predicted Error\")\n",
    "           \n",
    "        "
   ]
  }
 ],
 "metadata": {
  "anaconda-cloud": {},
  "kernelspec": {
   "display_name": "Python [ipykernal_py2]",
   "language": "python",
   "name": "Python [ipykernal_py2]"
  },
  "language_info": {
   "codemirror_mode": {
    "name": "ipython",
    "version": 2
   },
   "file_extension": ".py",
   "mimetype": "text/x-python",
   "name": "python",
   "nbconvert_exporter": "python",
   "pygments_lexer": "ipython2",
   "version": "2.7.13"
  }
 },
 "nbformat": 4,
 "nbformat_minor": 0
}
