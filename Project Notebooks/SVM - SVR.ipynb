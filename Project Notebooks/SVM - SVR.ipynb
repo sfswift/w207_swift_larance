{
 "cells": [
  {
   "cell_type": "code",
   "execution_count": 1,
   "metadata": {},
   "outputs": [],
   "source": [
    "# Imports\n",
    "# This tells matplotlib not to try opening a new window for each plot.\n",
    "%matplotlib inline\n",
    "\n",
    "import matplotlib.pyplot as plt\n",
    "import numpy as np\n",
    "import pandas as pd\n",
    "\n",
    "from sklearn.pipeline import Pipeline\n",
    "\n",
    "from sklearn.model_selection import cross_val_predict\n",
    "from sklearn.metrics import accuracy_score, mean_squared_error, mean_absolute_error, median_absolute_error\n",
    "\n",
    "from time import time\n"
   ]
  },
  {
   "cell_type": "code",
   "execution_count": 2,
   "metadata": {},
   "outputs": [],
   "source": [
    "\"\"\"\n",
    "SVM\n",
    "Source: Week 10 Notebook\n",
    "\n",
    "from sklearn.linear_model import LinearRegression\n",
    "\"\"\"\n",
    "\n",
    "from scipy import stats\n",
    "import pylab as pl\n",
    "import seaborn as sns; \n",
    "\n",
    "from sklearn.svm import SVR, LinearSVR\n",
    "\n",
    "sns.set()"
   ]
  },
  {
   "cell_type": "code",
   "execution_count": 3,
   "metadata": {},
   "outputs": [
    {
     "name": "stdout",
     "output_type": "stream",
     "text": [
      "Train data done\n",
      "Test data done\n"
     ]
    }
   ],
   "source": [
    "# Load train data\n",
    "train_labels = pd.read_csv('../Data/final/train_labels_processed.csv', sep=',', engine='python')\n",
    "train_data = pd.read_csv('../Data/final/train_data_processed.csv', sep=',', engine='python')\n",
    "print('Train data done')\n",
    "\n",
    "# Load test data\n",
    "test_labels = pd.read_csv('../Data/final/test_labels_processed.csv', sep=',', engine='python')\n",
    "test_data = pd.read_csv('../Data/final/test_data_processed.csv', sep=',', engine='python')\n",
    "print('Test data done')"
   ]
  },
  {
   "cell_type": "code",
   "execution_count": 4,
   "metadata": {},
   "outputs": [],
   "source": [
    "# Split into test and validation data\n",
    "validation_data, validation_labels = train_data[:30000], train_labels[:30000]\n",
    "train_data, train_labels = train_data[30000:], train_labels[30000:]"
   ]
  },
  {
   "cell_type": "code",
   "execution_count": 11,
   "metadata": {},
   "outputs": [
    {
     "name": "stdout",
     "output_type": "stream",
     "text": [
      "SVR(C=1.0, cache_size=200, coef0=0.0, degree=3, epsilon=0.1, gamma='auto',\n",
      "  kernel='rbf', max_iter=-1, shrinking=True, tol=0.001, verbose=False)\n",
      "Runtime:  2070.4017028808594\n"
     ]
    }
   ],
   "source": [
    "# Fit models with three different kernels\n",
    "t0 = time() # Check the runtime\n",
    "rbf = SVR(kernel='rbf')\n",
    "rbf.fit(train_data, np.ravel(train_labels))\n",
    "\n",
    "print(rbf)\n",
    "print('Runtime: ', time()-t0)"
   ]
  },
  {
   "cell_type": "code",
   "execution_count": 12,
   "metadata": {},
   "outputs": [
    {
     "name": "stdout",
     "output_type": "stream",
     "text": [
      "Runtime:  31.270756006240845\n"
     ]
    }
   ],
   "source": [
    "# Predict the output\n",
    "t0 = time()\n",
    "predicted_rbf = rbf.predict(validation_data)\n",
    "print('Runtime: ', time()-t0)"
   ]
  },
  {
   "cell_type": "code",
   "execution_count": 13,
   "metadata": {},
   "outputs": [
    {
     "name": "stdout",
     "output_type": "stream",
     "text": [
      "[ 0.06123799  0.00886758 -0.00455899 ...  0.00616737  0.03014537\n",
      "  0.06856407]\n",
      "(30000,)\n"
     ]
    }
   ],
   "source": [
    "print(predicted_rbf)\n",
    "print(predicted_rbf.shape)"
   ]
  },
  {
   "cell_type": "code",
   "execution_count": 14,
   "metadata": {},
   "outputs": [
    {
     "name": "stdout",
     "output_type": "stream",
     "text": [
      "rbf\n",
      "Mean squared error:    0.0260\n",
      "Mean absolute error:   0.0737\n",
      "Median absolute error: 0.0405\n"
     ]
    }
   ],
   "source": [
    "print('rbf')\n",
    "print(\"Mean squared error:    %.4f\" %mean_squared_error(validation_labels, predicted_rbf))\n",
    "print(\"Mean absolute error:   %.4f\" %mean_absolute_error(validation_labels, predicted_rbf))\n",
    "print(\"Median absolute error: %.4f\" %median_absolute_error(validation_labels, predicted_rbf))"
   ]
  },
  {
   "cell_type": "code",
   "execution_count": 15,
   "metadata": {},
   "outputs": [
    {
     "name": "stdout",
     "output_type": "stream",
     "text": [
      "Mean Squared Error:  0.026001839657664703\n",
      "Variance Score:  -0.0022004250226006494\n"
     ]
    },
    {
     "data": {
      "image/png": "[encoded data removed]",
      "text/plain": [
       "<matplotlib.figure.Figure at 0x23ce371a518>"
      ]
     },
     "metadata": {},
     "output_type": "display_data"
    }
   ],
   "source": [
    "# 6. Test the accuracy of the classifier\n",
    "# Start by plotting the train labels against the predicted data \n",
    "fig, ax = plt.subplots(1,1,figsize=(10,10))\n",
    "\n",
    "ax.scatter(np.ravel(validation_labels), predicted_rbf)\n",
    "#ax.set_xlim(-.5, .5)\n",
    "ax.set_xlabel(\"Real Error: $Y_i$\")\n",
    "ax.set_ylabel(\"Predicted Error: $\\hat{Y}_i$\")\n",
    "ax.set_title(\"Error vs. Predicted Error\")\n",
    "\n",
    "# Calculate the mean square error\n",
    "mse = np.mean((predicted_rbf-np.ravel(validation_labels))**2)\n",
    "print('Mean Squared Error: ', mse)\n",
    "\n",
    "# Explained variance score: 1 is perfect prediction\n",
    "# and 0 means that there is no linear relationship\n",
    "# between X and y.\n",
    "var_score = rbf.score(validation_data, validation_labels)\n",
    "print('Variance Score: ', var_score)"
   ]
  },
  {
   "cell_type": "code",
   "execution_count": null,
   "metadata": {},
   "outputs": [],
   "source": [
    "rmv = [\n",
    "    'calculatedbathnbr',\n",
    "    'fullbathcnt',\n",
    "    'heatingorsystemtypeid',\n",
    "    'structuretaxvaluedollarcnt',\n",
    "    'landtaxvaluedollarcnt',\n",
    "    'calculatedfinishedsqft',\n",
    "    'finishedsquarefeet12'\n",
    "]\n",
    "\n",
    "train_data = train_data.drop(rmv, axis=1) # axis=1 to remove columns\n",
    "validation_data = validation_data.drop(rmv, axis=1)"
   ]
  },
  {
   "cell_type": "code",
   "execution_count": null,
   "metadata": {},
   "outputs": [],
   "source": [
    "# Fit models with three different kernels\n",
    "t0 = time()\n",
    "rbf = SVR(kernel='rbf')\n",
    "rbf.fit(train_data, np.ravel(train_labels))\n",
    "\n",
    "print(rbf)\n",
    "print('Runtime: ', time()-t0)"
   ]
  },
  {
   "cell_type": "code",
   "execution_count": null,
   "metadata": {},
   "outputs": [],
   "source": [
    "# Predict the output\n",
    "t0 = time()\n",
    "predicted_rbf = rbf.predict(validation_data)\n",
    "print('Runtime: ', time()-t0)"
   ]
  },
  {
   "cell_type": "code",
   "execution_count": null,
   "metadata": {},
   "outputs": [],
   "source": [
    "print('rbf')\n",
    "print(\"Mean squared error:    %.4f\" %mean_squared_error(validation_labels, predicted_rbf))\n",
    "print(\"Mean absolute error:   %.4f\" %mean_absolute_error(validation_labels, predicted_rbf))\n",
    "print(\"Median absolute error: %.4f\" %median_absolute_error(validation_labels, predicted_rbf))"
   ]
  },
  {
   "cell_type": "code",
   "execution_count": null,
   "metadata": {},
   "outputs": [],
   "source": [
    "# 6. Test the accuracy of the classifier\n",
    "# Start by plotting the train labels against the predicted data \n",
    "fig, ax = plt.subplots(1,1,figsize=(10,10))\n",
    "\n",
    "ax.scatter(np.ravel(validation_labels), predicted_rbf)\n",
    "#ax.set_xlim(-.5, .5)\n",
    "ax.set_xlabel(\"Real Error: $Y_i$\")\n",
    "ax.set_ylabel(\"Predicted Error: $\\hat{Y}_i$\")\n",
    "ax.set_title(\"Error vs. Predicted Error\")\n",
    "\n",
    "# Calculate the mean square error\n",
    "mse = np.mean((predicted_rbf-np.ravel(validation_labels))**2)\n",
    "print('Mean Squared Error: ', mse)\n",
    "\n",
    "# Explained variance score: 1 is perfect prediction\n",
    "# and 0 means that there is no linear relationship\n",
    "# between X and y.\n",
    "var_score = rbf.score(validation_data, validation_labels)\n",
    "print('Variance Score: ', var_score)"
   ]
  }
 ],
 "metadata": {
  "kernelspec": {
   "display_name": "Python 3",
   "language": "python",
   "name": "python3"
  },
  "language_info": {
   "codemirror_mode": {
    "name": "ipython",
    "version": 3
   },
   "file_extension": ".py",
   "mimetype": "text/x-python",
   "name": "python",
   "nbconvert_exporter": "python",
   "pygments_lexer": "ipython3",
   "version": "3.6.4"
  }
 },
 "nbformat": 4,
 "nbformat_minor": 2
}
