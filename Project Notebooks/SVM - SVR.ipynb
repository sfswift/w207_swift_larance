{
 "cells": [
  {
   "cell_type": "code",
   "execution_count": 1,
   "metadata": {},
   "outputs": [],
   "source": [
    "# Imports\n",
    "# This tells matplotlib not to try opening a new window for each plot.\n",
    "%matplotlib inline\n",
    "\n",
    "import matplotlib.pyplot as plt\n",
    "import numpy as np\n",
    "import pandas as pd\n",
    "\n",
    "from sklearn.pipeline import Pipeline\n",
    "\n",
    "from sklearn.model_selection import cross_val_predict\n",
    "from sklearn.metrics import accuracy_score, mean_squared_error, mean_absolute_error, median_absolute_error\n",
    "\n",
    "from time import time\n"
   ]
  },
  {
   "cell_type": "code",
   "execution_count": 2,
   "metadata": {},
   "outputs": [],
   "source": [
    "\"\"\"\n",
    "SVM\n",
    "Source: Week 10 Notebook\n",
    "\n",
    "from sklearn.linear_model import LinearRegression\n",
    "\"\"\"\n",
    "\n",
    "from scipy import stats\n",
    "import pylab as pl\n",
    "import seaborn as sns; \n",
    "\n",
    "from sklearn.svm import SVR, LinearSVR\n",
    "\n",
    "sns.set()"
   ]
  },
  {
   "cell_type": "code",
   "execution_count": 3,
   "metadata": {},
   "outputs": [
    {
     "name": "stdout",
     "output_type": "stream",
     "text": [
      "Train data done\n",
      "Test data done\n"
     ]
    }
   ],
   "source": [
    "# Load train data\n",
    "train_labels = pd.read_csv('../Data/final/train_labels_processed.csv', sep=',', engine='python')\n",
    "train_data = pd.read_csv('../Data/final/train_data_processed.csv', sep=',', engine='python')\n",
    "print('Train data done')\n",
    "\n",
    "# Load test data\n",
    "test_labels = pd.read_csv('../Data/final/test_labels_processed.csv', sep=',', engine='python')\n",
    "test_data = pd.read_csv('../Data/final/test_data_processed.csv', sep=',', engine='python')\n",
    "print('Test data done')"
   ]
  },
  {
   "cell_type": "code",
   "execution_count": 4,
   "metadata": {},
   "outputs": [],
   "source": [
    "# Split into test and validation data\n",
    "validation_data, validation_labels = train_data[:30000], train_labels[:30000]\n",
    "train_data, train_labels = np.asarray(train_data[30000:]), np.asarray(train_labels[30000:])\n",
    "mini_train_data, mini_train_labels = train_data[:1000], train_labels[:1000]\n",
    "test_data, test_labels = np.asarray(test_data), np.asarray(test_labels)"
   ]
  },
  {
   "cell_type": "code",
   "execution_count": 5,
   "metadata": {},
   "outputs": [
    {
     "ename": "NameError",
     "evalue": "name 'rbf' is not defined",
     "output_type": "error",
     "traceback": [
      "\u001b[1;31m---------------------------------------------------------------------------\u001b[0m",
      "\u001b[1;31mNameError\u001b[0m                                 Traceback (most recent call last)",
      "\u001b[1;32m<ipython-input-5-1789d86a3b7e>\u001b[0m in \u001b[0;36m<module>\u001b[1;34m()\u001b[0m\n\u001b[0;32m      4\u001b[0m \u001b[0msvr\u001b[0m\u001b[1;33m.\u001b[0m\u001b[0mfit\u001b[0m\u001b[1;33m(\u001b[0m\u001b[0mtrain_data\u001b[0m\u001b[1;33m,\u001b[0m \u001b[0mnp\u001b[0m\u001b[1;33m.\u001b[0m\u001b[0mravel\u001b[0m\u001b[1;33m(\u001b[0m\u001b[0mtrain_labels\u001b[0m\u001b[1;33m)\u001b[0m\u001b[1;33m)\u001b[0m\u001b[1;33m\u001b[0m\u001b[0m\n\u001b[0;32m      5\u001b[0m \u001b[1;33m\u001b[0m\u001b[0m\n\u001b[1;32m----> 6\u001b[1;33m \u001b[0mprint\u001b[0m\u001b[1;33m(\u001b[0m\u001b[0mrbf\u001b[0m\u001b[1;33m)\u001b[0m\u001b[1;33m\u001b[0m\u001b[0m\n\u001b[0m\u001b[0;32m      7\u001b[0m \u001b[0mprint\u001b[0m\u001b[1;33m(\u001b[0m\u001b[1;34m'Runtime: '\u001b[0m\u001b[1;33m,\u001b[0m \u001b[0mtime\u001b[0m\u001b[1;33m(\u001b[0m\u001b[1;33m)\u001b[0m\u001b[1;33m-\u001b[0m\u001b[0mt0\u001b[0m\u001b[1;33m)\u001b[0m\u001b[1;33m\u001b[0m\u001b[0m\n",
      "\u001b[1;31mNameError\u001b[0m: name 'rbf' is not defined"
     ]
    }
   ],
   "source": [
    "# Fit models with three different kernels\n",
    "t0 = time() # Check the runtime\n",
    "svr = SVR()\n",
    "svr.fit(train_data, np.ravel(train_labels))\n",
    "\n",
    "print('Runtime: ', time()-t0)"
   ]
  },
  {
   "cell_type": "code",
   "execution_count": 6,
   "metadata": {},
   "outputs": [
    {
     "name": "stdout",
     "output_type": "stream",
     "text": [
      "Runtime:  36.29479742050171\n"
     ]
    }
   ],
   "source": [
    "# Predict the output\n",
    "t0 = time()\n",
    "predicted = svr.predict(test_data)\n",
    "print('Runtime: ', time()-t0)"
   ]
  },
  {
   "cell_type": "code",
   "execution_count": 7,
   "metadata": {},
   "outputs": [
    {
     "name": "stdout",
     "output_type": "stream",
     "text": [
      "[ 0.00713066  0.05100679  0.01401246 ... -0.0093292   0.04160304\n",
      "  0.04113883]\n",
      "(37854,)\n"
     ]
    }
   ],
   "source": [
    "print(predicted)\n",
    "print(predicted.shape)"
   ]
  },
  {
   "cell_type": "code",
   "execution_count": 8,
   "metadata": {},
   "outputs": [
    {
     "name": "stdout",
     "output_type": "stream",
     "text": [
      "rbf\n",
      "Mean squared error:    0.0266\n",
      "Mean absolute error:   0.0737\n",
      "Median absolute error: 0.0401\n"
     ]
    }
   ],
   "source": [
    "print('rbf')\n",
    "print(\"Mean squared error:    %.4f\" %mean_squared_error(test_labels, predicted))\n",
    "print(\"Mean absolute error:   %.4f\" %mean_absolute_error(test_labels, predicted))\n",
    "print(\"Median absolute error: %.4f\" %median_absolute_error(test_labels, predicted))"
   ]
  },
  {
   "cell_type": "code",
   "execution_count": 12,
   "metadata": {},
   "outputs": [
    {
     "name": "stdout",
     "output_type": "stream",
     "text": [
      "Mean Squared Error:  0.02660615191193847\n",
      "Variance Score:  -0.009067689966315573\n"
     ]
    },
    {
     "data": {
      "image/png": "[encoded data removed]",
      "text/plain": [
       "<matplotlib.figure.Figure at 0x1d1084dbf28>"
      ]
     },
     "metadata": {},
     "output_type": "display_data"
    }
   ],
   "source": [
    "# 6. Test the accuracy of the classifier\n",
    "# Start by plotting the train labels against the predicted data \n",
    "fig, ax = plt.subplots(1,1)\n",
    "ax.scatter(np.ravel(test_labels), predicted)\n",
    "#ax.set_xlim(-.5, .5)\n",
    "ax.set_xlabel(\"Real Error: $Y_i$\")\n",
    "ax.set_ylabel(\"Predicted Error: $\\hat{Y}_i$\")\n",
    "ax.set_title(\"Error vs. Predicted Error\")\n",
    "\n",
    "# Calculate the mean square error\n",
    "mse = np.mean((predicted-np.ravel(test_labels))**2)\n",
    "print('Mean Squared Error: ', mse)\n",
    "\n",
    "# Explained variance score: 1 is perfect prediction\n",
    "# and 0 means that there is no linear relationship\n",
    "# between X and y.\n",
    "var_score = svr.score(test_data, test_labels)\n",
    "print('Variance Score: ', var_score)"
   ]
  }
 ],
 "metadata": {
  "kernelspec": {
   "display_name": "Python 3",
   "language": "python",
   "name": "python3"
  },
  "language_info": {
   "codemirror_mode": {
    "name": "ipython",
    "version": 3
   },
   "file_extension": ".py",
   "mimetype": "text/x-python",
   "name": "python",
   "nbconvert_exporter": "python",
   "pygments_lexer": "ipython3",
   "version": "3.6.4"
  }
 },
 "nbformat": 4,
 "nbformat_minor": 2
}
