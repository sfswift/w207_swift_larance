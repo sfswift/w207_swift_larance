{
 "cells": [
  {
   "cell_type": "code",
   "execution_count": 18,
   "metadata": {},
   "outputs": [],
   "source": [
    "\"\"\"\n",
    "http://scikit-learn.org/stable/model_selection.html\n",
    "1. Packages\n",
    "All the packages we'll need for the various algorithms we can use\n",
    "\"\"\"\n",
    "\n",
    "# Global imports\n",
    "# This tells matplotlib not to try opening a new window for each plot.\n",
    "%matplotlib inline\n",
    "\n",
    "import matplotlib.pyplot as plt\n",
    "import numpy as np\n",
    "import pandas as pd\n",
    "\n",
    "from sklearn.pipeline import Pipeline\n",
    "\n",
    "from sklearn.model_selection import cross_val_score\n",
    "from sklearn.metrics import accuracy_score, mean_squared_error, mean_absolute_error, median_absolute_error\n",
    "\n",
    "np.random.seed(0)"
   ]
  },
  {
   "cell_type": "code",
   "execution_count": 2,
   "metadata": {},
   "outputs": [],
   "source": [
    "\"\"\"\n",
    "SVM\n",
    "Source: Week 10 Notebook\n",
    "\n",
    "from sklearn.linear_model import LinearRegression\n",
    "\"\"\"\n",
    "\n",
    "from scipy import stats\n",
    "import pylab as pl\n",
    "import seaborn as sns; \n",
    "\n",
    "from sklearn.svm import SVR, LinearSVR\n",
    "\n",
    "sns.set()"
   ]
  },
  {
   "cell_type": "code",
   "execution_count": 6,
   "metadata": {},
   "outputs": [
    {
     "name": "stdout",
     "output_type": "stream",
     "text": [
      "Subsetted data done\n"
     ]
    }
   ],
   "source": [
    "# Load ALL data\n",
    "train_target = pd.read_csv('../Data/train_2016_v2/train_2016_v2.csv', sep=',', engine='python')\n",
    "\n",
    "# Load all training data\n",
    "train_data = pd.read_csv('../Data/subsetted/subsetted_training_data_2016.csv', sep=',', engine='python')\n",
    "print('Subsetted data done')"
   ]
  },
  {
   "cell_type": "code",
   "execution_count": 14,
   "metadata": {},
   "outputs": [
    {
     "name": "stdout",
     "output_type": "stream",
     "text": [
      "data shape:  (75000, 11)\n",
      "target shape: (75000,)\n"
     ]
    }
   ],
   "source": [
    "# Prep the data\n",
    "# NOTE: Each time you run this cell, you'll re-shuffle the data, resulting in a different ordering.\n",
    "\n",
    "# Remove non int or float columns\n",
    "#train_data = train_data.select_dtypes(['float64','int64'])\n",
    "\n",
    "# Remove columns from the data matrix that contain Nan values\n",
    "#train_data = train_data.dropna(axis=1, how='any')\n",
    "# If we'd rather just remove rows with a Nan, we'd need to change the axis to 0\n",
    "# Note to David: I ran with axis=0 and the shape was (0, 54), so every row has at least one Nan\n",
    "\n",
    "# Set the X and Y variables\n",
    "X, Y = np.asarray(train_data), np.asarray(train_target['logerror'])\n",
    "\n",
    "# Shuffle the variables\n",
    "shuffle = np.random.permutation(np.arange(X.shape[0]))\n",
    "X, Y = X[shuffle], Y[shuffle]\n",
    "\n",
    "print('data shape: ', X.shape)\n",
    "print('target shape:', Y.shape)\n",
    "\n",
    "# Create different arrays for training and testing data.\n",
    "train_data, train_labels = X[:75000], Y[:75000]\n",
    "mini_train_data, mini_train_labels = X[:1000], Y[:1000]\n",
    "test_data, test_labels = X[75000:], Y[75000:]\n",
    "#dev_data, dev_labels = X_2016[75000:76000], Y_2016[75000:76000]\n",
    "mini_test_data, mini_test_labels = X[70000:], Y[70000:]"
   ]
  },
  {
   "cell_type": "code",
   "execution_count": 11,
   "metadata": {},
   "outputs": [
    {
     "data": {
      "text/plain": [
       "SVR(C=1.0, cache_size=200, coef0=0.0, degree=3, epsilon=0.1, gamma='auto',\n",
       "  kernel='rbf', max_iter=-1, shrinking=True, tol=0.001, verbose=False)"
      ]
     },
     "execution_count": 11,
     "metadata": {},
     "output_type": "execute_result"
    }
   ],
   "source": [
    "clf = SVR(kernel='rbf')\n",
    "clf.fit(mini_train_data, mini_train_labels)"
   ]
  },
  {
   "cell_type": "code",
   "execution_count": 21,
   "metadata": {},
   "outputs": [
    {
     "name": "stdout",
     "output_type": "stream",
     "text": [
      "Mean squared error:    0.0238\n",
      "Mean absolute error:   0.0689\n",
      "Median absolute error: 0.0328\n"
     ]
    }
   ],
   "source": [
    "predicted = clf.predict(mini_test_data)\n",
    "\n",
    "print(\"Mean squared error:    %.4f\" %mean_squared_error(mini_test_labels, predicted))\n",
    "print(\"Mean absolute error:   %.4f\" %mean_absolute_error(mini_test_labels, predicted))\n",
    "print(\"Median absolute error: %.4f\" %median_absolute_error(mini_test_labels, predicted))"
   ]
  },
  {
   "cell_type": "code",
   "execution_count": null,
   "metadata": {
    "collapsed": true
   },
   "outputs": [],
   "source": []
  }
 ],
 "metadata": {
  "kernelspec": {
   "display_name": "Python 3",
   "language": "python",
   "name": "python3"
  },
  "language_info": {
   "codemirror_mode": {
    "name": "ipython",
    "version": 3
   },
   "file_extension": ".py",
   "mimetype": "text/x-python",
   "name": "python",
   "nbconvert_exporter": "python",
   "pygments_lexer": "ipython3",
   "version": "3.6.4"
  }
 },
 "nbformat": 4,
 "nbformat_minor": 2
}
