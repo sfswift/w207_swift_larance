{
 "cells": [
  {
   "cell_type": "code",
   "execution_count": 19,
   "metadata": {},
   "outputs": [],
   "source": [
    "\"\"\"\n",
    "All the packages we'll need for the various algorithms we can use\n",
    "\"\"\"\n",
    "\n",
    "# Global imports\n",
    "# This tells matplotlib not to try opening a new window for each plot.\n",
    "%matplotlib inline\n",
    "\n",
    "import matplotlib.pyplot as plt\n",
    "import numpy as np\n",
    "import pandas as pd\n",
    "\n",
    "np.random.seed(0)"
   ]
  },
  {
   "cell_type": "code",
   "execution_count": null,
   "metadata": {},
   "outputs": [],
   "source": [
    "\"\"\"\n",
    "Decision Trees\n",
    "Source: Week 4 Notebook\n",
    "\n",
    "\n",
    "\"\"\"\n",
    "\n",
    "from sklearn import tree\n",
    "from sklearn.tree import DecisionTreeClassifier\n",
    "\n",
    "# For producing decision tree diagrams.\n",
    "from IPython.core.display import Image, display\n",
    "from sklearn.externals.six import StringIO\n",
    "import pydot"
   ]
  },
  {
   "cell_type": "code",
   "execution_count": null,
   "metadata": {},
   "outputs": [],
   "source": [
    "\"\"\"\n",
    "Linear Regression\n",
    "Source: Week 6 Notebook\n",
    "\n",
    "\n",
    "\"\"\"\n",
    "\n",
    "import seaborn as sns\n",
    "from numpy.linalg import inv\n",
    "from sklearn.linear_model import LinearRegression\n",
    "from sklearn import preprocessing\n",
    "\n",
    "np.set_printoptions(precision=4, suppress=True)"
   ]
  },
  {
   "cell_type": "code",
   "execution_count": null,
   "metadata": {},
   "outputs": [],
   "source": [
    "\"\"\"\n",
    "Neural Network\n",
    "Source: Week 7 Notebook and Week 10 notebook\n",
    "\n",
    "- Jason recommends we use Keras, but I have included the Week 7 imports as well\n",
    "\n",
    "\n",
    "from sklearn.metrics import classification_report\n",
    "from sklearn.neighbors import KNeighborsClassifier\n",
    "\n",
    "import theano \n",
    "from theano import tensor as T\n",
    "from theano.sandbox.rng_mrg import MRG_RandomStreams as RandomStreams\n",
    "print(theano.config.device) # We're using CPUs (for now)\n",
    "print(theano.config.floatX) # Should be 64 bit for CPUs\n",
    "\n",
    "\"\"\"\n",
    "\n",
    "import keras\n",
    "keras.__version__"
   ]
  },
  {
   "cell_type": "code",
   "execution_count": null,
   "metadata": {},
   "outputs": [],
   "source": [
    "\"\"\"\n",
    "SVM\n",
    "Source: Week 10 Notebook\n",
    "\n",
    "from sklearn.linear_model import LinearRegression\n",
    "\"\"\"\n",
    "\n",
    "from scipy import stats\n",
    "import pylab as pl\n",
    "\n",
    "sns.set()"
   ]
  },
  {
   "cell_type": "code",
   "execution_count": 43,
   "metadata": {},
   "outputs": [
    {
     "name": "stderr",
     "output_type": "stream",
     "text": [
      "c:\\program files\\python36\\lib\\site-packages\\IPython\\core\\interactiveshell.py:2728: DtypeWarning: Columns (22,32,34,49,55) have mixed types. Specify dtype option on import or set low_memory=False.\n",
      "  interactivity=interactivity, compiler=compiler, result=result)\n"
     ]
    },
    {
     "name": "stdout",
     "output_type": "stream",
     "text": [
      "data shape:  (2985217, 58)\n"
     ]
    }
   ],
   "source": [
    "\"\"\"\n",
    "Import the Zillow Home Value Prediction data from the Kaggle Competition\n",
    "\n",
    "Experiment with the Zillow API to grab more recent data?\n",
    "\n",
    "Try to run this a few times as possible, the data set takes a little while to import\n",
    "\"\"\"\n",
    "\n",
    "# Import the data dictionary for a summary of the features we have\n",
    "data_dictionary = pd.read_csv('..\\Data\\zillow_data_dictionary\\zillow_data_dictionary.csv', sep=',')\n",
    "\n",
    "# Import the 2016 data\n",
    "# Will need to address NaN\n",
    "# Split into train, test, dev sets\n",
    "data_2016 = pd.read_csv('..\\Data\\properties_2016\\properties_2016.csv', sep=',')\n",
    "\n",
    "# Shuffle the data\n",
    "np_data_2016 = np.asarray(data_2016)\n",
    "shuffle = np.random.permutation(np.arange(np_data_2016.shape[0]))\n",
    "np_data_2016 = np_data_2016[shuffle]\n",
    "\n",
    "# Check the shape\n",
    "print('data shape: ', np_data_2016.shape)"
   ]
  },
  {
   "cell_type": "code",
   "execution_count": 29,
   "metadata": {},
   "outputs": [
    {
     "name": "stdout",
     "output_type": "stream",
     "text": [
      "E:\\_FRESH START\\MIDS\\W207\\w207_swift_larance\\Project Notebooks\n"
     ]
    }
   ],
   "source": [
    "import os\n",
    "cwd = os.getcwd()\n",
    "\n",
    "print(cwd)"
   ]
  },
  {
   "cell_type": "code",
   "execution_count": 44,
   "metadata": {},
   "outputs": [
    {
     "name": "stdout",
     "output_type": "stream",
     "text": [
      "done\n"
     ]
    }
   ],
   "source": [
    "# Set some variables to hold test, dev, and training data.\n",
    "train_data_2016 = np_data_2016[:1000000]\n",
    "test_data_2016 = np_data_2016[1000000:2000000]\n",
    "dev_data_2016 = np_data_2016[2000000:]\n",
    "mini_train_data_2016 = np_data_2016[:10000]\n",
    "\n",
    "print(\"done\")"
   ]
  },
  {
   "cell_type": "code",
   "execution_count": 40,
   "metadata": {},
   "outputs": [
    {
     "data": {
      "text/plain": [
       "995072.3333333334"
      ]
     },
     "execution_count": 40,
     "metadata": {},
     "output_type": "execute_result"
    }
   ],
   "source": [
    "data_2016.shape[0]/3"
   ]
  },
  {
   "cell_type": "code",
   "execution_count": null,
   "metadata": {},
   "outputs": [],
   "source": []
  }
 ],
 "metadata": {
  "kernelspec": {
   "display_name": "Python 3",
   "language": "python",
   "name": "python3"
  },
  "language_info": {
   "codemirror_mode": {
    "name": "ipython",
    "version": 3
   },
   "file_extension": ".py",
   "mimetype": "text/x-python",
   "name": "python",
   "nbconvert_exporter": "python",
   "pygments_lexer": "ipython3",
   "version": "3.6.4"
  }
 },
 "nbformat": 4,
 "nbformat_minor": 2
}
